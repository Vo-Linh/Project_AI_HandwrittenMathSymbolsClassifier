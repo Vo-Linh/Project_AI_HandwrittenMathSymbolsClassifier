{
  "nbformat": 4,
  "nbformat_minor": 0,
  "metadata": {
    "colab": {
      "name": "HandwrittenMathSymbolsClassifier.ipynb",
      "provenance": [],
      "collapsed_sections": []
    },
    "kernelspec": {
      "name": "python3",
      "display_name": "Python 3"
    },
    "language_info": {
      "name": "python"
    },
    "accelerator": "GPU"
  },
  "cells": [
    {
      "cell_type": "markdown",
      "source": [
        "# Handwritten math symbols 🔣 \n",
        "\n",
        "Dataset consists of jpg files(45x45)\n",
        "\n",
        "DISCLAIMER: dataset does not contain Hebrew alphabet at all. It includes basic Greek alphabet symbols like: alpha, beta, gamma, mu, sigma, phi and theta.\n",
        "\n",
        "English alphanumeric symbols are included.\n",
        "\n",
        "All math operators, set operators.\n",
        "\n",
        "Basic pre-defined math functions like: log, lim, cos, sin, tan.\n",
        "\n",
        "Math symbols like: \\int, \\sum, \\sqrt, \\delta and more.\n",
        "\n",
        "detail more: https://www.kaggle.com/xainano/handwrittenmathsymbols"
      ],
      "metadata": {
        "id": "GZ02Jx3d7y3R"
      }
    },
    {
      "cell_type": "markdown",
      "source": [
        "## Download dataset from kaggle"
      ],
      "metadata": {
        "id": "FedUB7SC9atT"
      }
    },
    {
      "cell_type": "code",
      "source": [
        "from google.colab import files\n",
        "\n",
        "# Upload file kaggle.json\n",
        "files.upload()"
      ],
      "metadata": {
        "id": "L2CpaTFV9yzI"
      },
      "execution_count": null,
      "outputs": []
    },
    {
      "cell_type": "code",
      "source": [
        "# Download data \n",
        "!mkdir -p ~/.kaggle \n",
        "!cp kaggle.json ~/.kaggle/ \n",
        "!ls ~/.kaggle \n",
        "!chmod 600 /root/.kaggle/kaggle.json\n",
        "!kaggle datasets download -d xainano/handwrittenmathsymbols"
      ],
      "metadata": {
        "colab": {
          "base_uri": "https://localhost:8080/"
        },
        "id": "4TFNy3Fb9_uZ",
        "outputId": "34181c10-c202-464d-d28d-1e641bb00cf4"
      },
      "execution_count": 2,
      "outputs": [
        {
          "output_type": "stream",
          "name": "stdout",
          "text": [
            "kaggle.json\n",
            "Downloading handwrittenmathsymbols.zip to /content\n",
            "100% 342M/343M [00:02<00:00, 168MB/s]\n",
            "100% 343M/343M [00:02<00:00, 165MB/s]\n"
          ]
        }
      ]
    },
    {
      "cell_type": "code",
      "source": [
        "!unzip /content/handwrittenmathsymbols.zip"
      ],
      "metadata": {
        "id": "u1ANOrDP_Duf"
      },
      "execution_count": null,
      "outputs": []
    },
    {
      "cell_type": "code",
      "source": [
        "!unrar x /content/data.rar"
      ],
      "metadata": {
        "id": "Gil_aYqV_vfb"
      },
      "execution_count": null,
      "outputs": []
    },
    {
      "cell_type": "markdown",
      "source": [
        "## Visualize data"
      ],
      "metadata": {
        "id": "NMom8kNiAUik"
      }
    },
    {
      "cell_type": "code",
      "source": [
        "# Walk through data \n",
        "import os\n",
        "\n",
        "for dirpath, dirnames, filenames in os.walk(\"/content/extracted_images\"):\n",
        "    print(f\"There are {len(dirnames)} directories and {len(filenames)} images in '{dirpath}'.\")"
      ],
      "metadata": {
        "colab": {
          "base_uri": "https://localhost:8080/"
        },
        "id": "WlZKGEj_BgOi",
        "outputId": "c67b6ba8-a6fd-4417-d1e9-2759e7aa0cd6"
      },
      "execution_count": 5,
      "outputs": [
        {
          "output_type": "stream",
          "name": "stdout",
          "text": [
            "There are 82 directories and 0 images in '/content/extracted_images'.\n",
            "There are 0 directories and 199 images in '/content/extracted_images/forward_slash'.\n",
            "There are 0 directories and 2742 images in '/content/extracted_images/int'.\n",
            "There are 0 directories and 9340 images in '/content/extracted_images/y'.\n",
            "There are 0 directories and 973 images in '/content/extracted_images/leq'.\n",
            "There are 0 directories and 8908 images in '/content/extracted_images/sqrt'.\n",
            "There are 0 directories and 409 images in '/content/extracted_images/gamma'.\n",
            "There are 0 directories and 3545 images in '/content/extracted_images/5'.\n",
            "There are 0 directories and 201 images in '/content/extracted_images/sigma'.\n",
            "There are 0 directories and 1783 images in '/content/extracted_images/infty'.\n",
            "There are 0 directories and 25112 images in '/content/extracted_images/+'.\n",
            "There are 0 directories and 3118 images in '/content/extracted_images/6'.\n",
            "There are 0 directories and 609 images in '/content/extracted_images/ldots'.\n",
            "There are 0 directories and 377 images in '/content/extracted_images/}'.\n",
            "There are 0 directories and 1230 images in '/content/extracted_images/q'.\n",
            "There are 0 directories and 26594 images in '/content/extracted_images/X'.\n",
            "There are 0 directories and 477 images in '/content/extracted_images/lt'.\n",
            "There are 0 directories and 1692 images in '/content/extracted_images/G'.\n",
            "There are 0 directories and 7396 images in '/content/extracted_images/4'.\n",
            "There are 0 directories and 1906 images in '/content/extracted_images/,'.\n",
            "There are 0 directories and 1703 images in '/content/extracted_images/rightarrow'.\n",
            "There are 0 directories and 14355 images in '/content/extracted_images/)'.\n",
            "There are 0 directories and 5140 images in '/content/extracted_images/i'.\n",
            "There are 0 directories and 1300 images in '/content/extracted_images/!'.\n",
            "There are 0 directories and 21 images in '/content/extracted_images/exists'.\n",
            "There are 0 directories and 5870 images in '/content/extracted_images/z'.\n",
            "There are 0 directories and 329 images in '/content/extracted_images/prime'.\n",
            "There are 0 directories and 556 images in '/content/extracted_images/w'.\n",
            "There are 0 directories and 3068 images in '/content/extracted_images/8'.\n",
            "There are 0 directories and 2476 images in '/content/extracted_images/M'.\n",
            "There are 0 directories and 109 images in '/content/extracted_images/lambda'.\n",
            "There are 0 directories and 177 images in '/content/extracted_images/mu'.\n",
            "There are 0 directories and 868 images in '/content/extracted_images/div'.\n",
            "There are 0 directories and 2796 images in '/content/extracted_images/theta'.\n",
            "There are 0 directories and 4293 images in '/content/extracted_images/sin'.\n",
            "There are 0 directories and 137 images in '/content/extracted_images/Delta'.\n",
            "There are 0 directories and 8651 images in '/content/extracted_images/b'.\n",
            "There are 0 directories and 2332 images in '/content/extracted_images/pi'.\n",
            "There are 0 directories and 1339 images in '/content/extracted_images/ascii_124'.\n",
            "There are 0 directories and 45 images in '/content/extracted_images/forall'.\n",
            "There are 0 directories and 802 images in '/content/extracted_images/pm'.\n",
            "There are 0 directories and 2909 images in '/content/extracted_images/7'.\n",
            "There are 0 directories and 258 images in '/content/extracted_images/gt'.\n",
            "There are 0 directories and 376 images in '/content/extracted_images/{'.\n",
            "There are 0 directories and 2986 images in '/content/extracted_images/cos'.\n",
            "There are 0 directories and 14294 images in '/content/extracted_images/('.\n",
            "There are 0 directories and 3274 images in '/content/extracted_images/T'.\n",
            "There are 0 directories and 26520 images in '/content/extracted_images/1'.\n",
            "There are 0 directories and 449 images in '/content/extracted_images/o'.\n",
            "There are 0 directories and 778 images in '/content/extracted_images/['.\n",
            "There are 0 directories and 5802 images in '/content/extracted_images/C'.\n",
            "There are 0 directories and 6914 images in '/content/extracted_images/0'.\n",
            "There are 0 directories and 13104 images in '/content/extracted_images/='.\n",
            "There are 0 directories and 47 images in '/content/extracted_images/in'.\n",
            "There are 0 directories and 1269 images in '/content/extracted_images/u'.\n",
            "There are 0 directories and 12367 images in '/content/extracted_images/A'.\n",
            "There are 0 directories and 3003 images in '/content/extracted_images/e'.\n",
            "There are 0 directories and 3251 images in '/content/extracted_images/times'.\n",
            "There are 0 directories and 2025 images in '/content/extracted_images/beta'.\n",
            "There are 0 directories and 26141 images in '/content/extracted_images/2'.\n",
            "There are 0 directories and 3074 images in '/content/extracted_images/k'.\n",
            "There are 0 directories and 2546 images in '/content/extracted_images/alpha'.\n",
            "There are 0 directories and 2671 images in '/content/extracted_images/R'.\n",
            "There are 0 directories and 1413 images in '/content/extracted_images/S'.\n",
            "There are 0 directories and 2689 images in '/content/extracted_images/sum'.\n",
            "There are 0 directories and 1558 images in '/content/extracted_images/v'.\n",
            "There are 0 directories and 1464 images in '/content/extracted_images/H'.\n",
            "There are 0 directories and 1017 images in '/content/extracted_images/l'.\n",
            "There are 0 directories and 780 images in '/content/extracted_images/]'.\n",
            "There are 0 directories and 1675 images in '/content/extracted_images/lim'.\n",
            "There are 0 directories and 10862 images in '/content/extracted_images/N'.\n",
            "There are 0 directories and 2001 images in '/content/extracted_images/log'.\n",
            "There are 0 directories and 3712 images in '/content/extracted_images/f'.\n",
            "There are 0 directories and 693 images in '/content/extracted_images/geq'.\n",
            "There are 0 directories and 4852 images in '/content/extracted_images/d'.\n",
            "There are 0 directories and 3737 images in '/content/extracted_images/9'.\n",
            "There are 0 directories and 558 images in '/content/extracted_images/neq'.\n",
            "There are 0 directories and 2680 images in '/content/extracted_images/p'.\n",
            "There are 0 directories and 355 images in '/content/extracted_images/phi'.\n",
            "There are 0 directories and 1536 images in '/content/extracted_images/j'.\n",
            "There are 0 directories and 33997 images in '/content/extracted_images/-'.\n",
            "There are 0 directories and 10909 images in '/content/extracted_images/3'.\n",
            "There are 0 directories and 2450 images in '/content/extracted_images/tan'.\n"
          ]
        }
      ]
    },
    {
      "cell_type": "code",
      "source": [
        "!wget https://raw.githubusercontent.com/ThomasLech/CROHME_extractor/master/classes.txt"
      ],
      "metadata": {
        "id": "T2i9B9CuKWRG",
        "colab": {
          "base_uri": "https://localhost:8080/"
        },
        "outputId": "61e36cf6-971d-467b-d6cc-9f34e9c2781d"
      },
      "execution_count": 6,
      "outputs": [
        {
          "output_type": "stream",
          "name": "stdout",
          "text": [
            "--2022-02-08 07:03:30--  https://raw.githubusercontent.com/ThomasLech/CROHME_extractor/master/classes.txt\n",
            "Resolving raw.githubusercontent.com (raw.githubusercontent.com)... 185.199.108.133, 185.199.109.133, 185.199.110.133, ...\n",
            "Connecting to raw.githubusercontent.com (raw.githubusercontent.com)|185.199.108.133|:443... connected.\n",
            "HTTP request sent, awaiting response... 200 OK\n",
            "Length: 104 [text/plain]\n",
            "Saving to: ‘classes.txt’\n",
            "\n",
            "\rclasses.txt           0%[                    ]       0  --.-KB/s               \rclasses.txt         100%[===================>]     104  --.-KB/s    in 0s      \n",
            "\n",
            "2022-02-08 07:03:30 (6.53 MB/s) - ‘classes.txt’ saved [104/104]\n",
            "\n"
          ]
        }
      ]
    },
    {
      "cell_type": "code",
      "source": [
        "import matplotlib.pyplot as plt\n",
        "import numpy as np\n",
        "import math\n",
        "import random\n",
        "from skimage.feature import hog\n",
        "import matplotlib.image as mpimg\n",
        "import tensorflow as tf\n",
        "import keras"
      ],
      "metadata": {
        "id": "7WZus7C1KbJZ"
      },
      "execution_count": 7,
      "outputs": []
    },
    {
      "cell_type": "code",
      "source": [
        "classes = open('/content/classes.txt', 'r').read().split()\n",
        "classes = ['+','-','div','times','=','infty','int','sqrt','log','sum']\n",
        "len(classes)"
      ],
      "metadata": {
        "colab": {
          "base_uri": "https://localhost:8080/"
        },
        "id": "ZTx6mokbLLy8",
        "outputId": "334316a4-5f85-4609-b8a6-ebb0dde737bf"
      },
      "execution_count": 8,
      "outputs": [
        {
          "output_type": "execute_result",
          "data": {
            "text/plain": [
              "10"
            ]
          },
          "metadata": {},
          "execution_count": 8
        }
      ]
    },
    {
      "cell_type": "code",
      "source": [
        "def view_random_image(target_dir, target_class):\n",
        "    # set up target directory\n",
        "    target_folder = target_dir + target_class\n",
        "\n",
        "    # Get a random image class \n",
        "    random_image = random.sample(os.listdir(target_folder), 1)\n",
        "\n",
        "    # Read in the image and plot  it using matplotlib\n",
        "    img = mpimg.imread(target_folder +'/'+ random_image[0])\n",
        "    plt.imshow(img, cmap= 'gray')\n",
        "    plt.title(target_class)\n",
        "    plt.axis(False)\n",
        "\n",
        "    print(f\"Image shape: {img.shape}\") # show the shape of the image\n",
        "    \n",
        "    return img\n"
      ],
      "metadata": {
        "id": "tbmfSgb6MR56"
      },
      "execution_count": 9,
      "outputs": []
    },
    {
      "cell_type": "code",
      "source": [
        "view_random_image('/content/extracted_images/', 'beta')"
      ],
      "metadata": {
        "colab": {
          "base_uri": "https://localhost:8080/",
          "height": 403
        },
        "id": "9NEcXi-5PyMb",
        "outputId": "06bce8f7-f472-466c-f4b3-a259b9e5c141"
      },
      "execution_count": 25,
      "outputs": [
        {
          "output_type": "stream",
          "name": "stdout",
          "text": [
            "Image shape: (45, 45)\n"
          ]
        },
        {
          "output_type": "execute_result",
          "data": {
            "text/plain": [
              "array([[255, 255, 255, ..., 255, 255, 255],\n",
              "       [255, 255, 255, ..., 255, 255, 255],\n",
              "       [255, 255, 255, ..., 255, 255, 255],\n",
              "       ...,\n",
              "       [255, 255, 255, ..., 255, 255, 255],\n",
              "       [255, 255, 255, ..., 255, 255, 255],\n",
              "       [255, 255, 255, ..., 255, 255, 255]], dtype=uint8)"
            ]
          },
          "metadata": {},
          "execution_count": 25
        },
        {
          "output_type": "display_data",
          "data": {
            "image/png": "[encoded data removed]",
            "text/plain": [
              "<Figure size 432x288 with 1 Axes>"
            ]
          },
          "metadata": {
            "needs_background": "light"
          }
        }
      ]
    },
    {
      "cell_type": "markdown",
      "source": [
        "## Split data into train and test set"
      ],
      "metadata": {
        "id": "CUY5b25DRYDB"
      }
    },
    {
      "cell_type": "code",
      "source": [
        "from numpy.lib.utils import source\n",
        "import shutil\n",
        "\n",
        "rootdir = '/content/extracted_images'\n",
        "\n",
        "for i in classes:\n",
        "    os.makedirs(rootdir + '/train/' + i)\n",
        "    os.makedirs(rootdir + '/test/' + i)\n",
        "    source = rootdir +'/' + i\n",
        "\n",
        "    allFileNames = os.listdir(source)\n",
        "    np.random.shuffle(allFileNames)\n",
        "\n",
        "    train_size = 0.75\n",
        "    train_FileNames, test_FileNames = np.split(np.array(allFileNames), [int(len(allFileNames) * train_size)])\n",
        "\n",
        "    train_FileNames = [source + '/' + name for name in train_FileNames.tolist()]\n",
        "    test_FileNames = [source + '/' + name for name in test_FileNames.tolist()]\n",
        "\n",
        "    for name in train_FileNames:\n",
        "      shutil.copy(name, rootdir + '/train/' + i)\n",
        "\n",
        "    for name in test_FileNames:\n",
        "      shutil.copy(name, rootdir + '/test/' + i)\n"
      ],
      "metadata": {
        "id": "4TCfYWiNL1ut"
      },
      "execution_count": 19,
      "outputs": []
    },
    {
      "cell_type": "markdown",
      "source": [
        "## Pre-processing data"
      ],
      "metadata": {
        "id": "335ci8e6L9P0"
      }
    },
    {
      "cell_type": "code",
      "source": [
        "from tensorflow.keras.utils import image_dataset_from_directory\n",
        "from tensorflow.keras.preprocessing.image import ImageDataGenerator"
      ],
      "metadata": {
        "id": "Q0dhkFJOws6I"
      },
      "execution_count": 20,
      "outputs": []
    },
    {
      "cell_type": "code",
      "source": [
        "train_dir = \"/content/extracted_images/train\"\n",
        "test_dir = \"/content/extracted_images/test\"\n",
        "\n",
        "\n",
        "\n",
        "# Rescale the data and create data generator instances\n",
        "train_datagen = ImageDataGenerator(rescale= 1./255)\n",
        "test_datagen = ImageDataGenerator(rescale= 1./255)\n",
        "\n",
        "# Load data in from directories and turn it into batches\n",
        "train_ds = train_datagen.flow_from_directory(train_dir,\n",
        "                                            target_size = (45, 45),\n",
        "                                            batch_size = 32,\n",
        "                                            color_mode= 'rgb',\n",
        "                                            class_mode = 'categorical')\n",
        "\n",
        "test_ds = test_datagen.flow_from_directory(test_dir,\n",
        "                                          target_size = (45, 45),\n",
        "                                          batch_size = 32,\n",
        "                                          color_mode= 'rgb',\n",
        "                                          class_mode = 'categorical')"
      ],
      "metadata": {
        "colab": {
          "base_uri": "https://localhost:8080/"
        },
        "id": "WXpl0RaXuAKh",
        "outputId": "dd9b30eb-4fad-421c-d132-75822b343971"
      },
      "execution_count": 62,
      "outputs": [
        {
          "output_type": "stream",
          "name": "stdout",
          "text": [
            "Found 70838 images belonging to 10 classes.\n",
            "Found 23617 images belonging to 10 classes.\n"
          ]
        }
      ]
    },
    {
      "cell_type": "markdown",
      "source": [
        "## Create model"
      ],
      "metadata": {
        "id": "KwXf5d1gC8Tq"
      }
    },
    {
      "cell_type": "code",
      "source": [
        "model = tf.keras.Sequential([\n",
        "    tf.keras.layers.Conv2D(16, 3, activation= 'relu', input_shape = (45, 45, 3)),\n",
        "    tf.keras.layers.Conv2D(16, 3, padding='same', activation='relu'),\n",
        "    tf.keras.layers.MaxPooling2D(),\n",
        "    tf.keras.layers.Conv2D(32, 3, padding='same', activation='relu'),\n",
        "    tf.keras.layers.MaxPooling2D(),\n",
        "    tf.keras.layers.Conv2D(64, 3, padding='same', activation='relu'),\n",
        "    tf.keras.layers.MaxPooling2D(),\n",
        "    tf.keras.layers.Dropout(0.2),\n",
        "    tf.keras.layers.Flatten(),\n",
        "    tf.keras.layers.Dense(128, activation='relu'),\n",
        "    tf.keras.layers.Dense(10, activation = 'softmax')\n",
        "])\n",
        "\n",
        "model.summary()"
      ],
      "metadata": {
        "id": "00yGcw9HEIXs",
        "colab": {
          "base_uri": "https://localhost:8080/"
        },
        "outputId": "6038de41-3bc5-496c-9975-fc60c08b687c"
      },
      "execution_count": 64,
      "outputs": [
        {
          "output_type": "stream",
          "name": "stdout",
          "text": [
            "Model: \"sequential_10\"\n",
            "_________________________________________________________________\n",
            " Layer (type)                Output Shape              Param #   \n",
            "=================================================================\n",
            " conv2d_41 (Conv2D)          (None, 43, 43, 16)        448       \n",
            "                                                                 \n",
            " conv2d_42 (Conv2D)          (None, 43, 43, 16)        2320      \n",
            "                                                                 \n",
            " max_pooling2d_30 (MaxPoolin  (None, 21, 21, 16)       0         \n",
            " g2D)                                                            \n",
            "                                                                 \n",
            " conv2d_43 (Conv2D)          (None, 21, 21, 32)        4640      \n",
            "                                                                 \n",
            " max_pooling2d_31 (MaxPoolin  (None, 10, 10, 32)       0         \n",
            " g2D)                                                            \n",
            "                                                                 \n",
            " conv2d_44 (Conv2D)          (None, 10, 10, 64)        18496     \n",
            "                                                                 \n",
            " max_pooling2d_32 (MaxPoolin  (None, 5, 5, 64)         0         \n",
            " g2D)                                                            \n",
            "                                                                 \n",
            " dropout_6 (Dropout)         (None, 5, 5, 64)          0         \n",
            "                                                                 \n",
            " flatten_11 (Flatten)        (None, 1600)              0         \n",
            "                                                                 \n",
            " dense_18 (Dense)            (None, 128)               204928    \n",
            "                                                                 \n",
            " dense_19 (Dense)            (None, 10)                1290      \n",
            "                                                                 \n",
            "=================================================================\n",
            "Total params: 232,122\n",
            "Trainable params: 232,122\n",
            "Non-trainable params: 0\n",
            "_________________________________________________________________\n"
          ]
        }
      ]
    },
    {
      "cell_type": "code",
      "source": [
        "# Compile model \n",
        "model.compile(\n",
        "    loss = tf.keras.losses.categorical_crossentropy,\n",
        "    optimizer = tf.keras.optimizers.Adam(),\n",
        "    metrics = ['accuracy']\n",
        ")"
      ],
      "metadata": {
        "id": "Ti6HuQ3DNGDp"
      },
      "execution_count": 65,
      "outputs": []
    },
    {
      "cell_type": "code",
      "source": [
        "# Fit model \n",
        "history = model.fit(train_ds, epochs = 10,\n",
        "                    steps_per_epoch = len(train_ds),\n",
        "                    validation_data = test_ds,\n",
        "                    validation_steps = len(test_ds))"
      ],
      "metadata": {
        "colab": {
          "base_uri": "https://localhost:8080/"
        },
        "id": "WznHrOKfOB5l",
        "outputId": "6f458aa3-4d5e-46d7-d50b-cf3ec8bfd999"
      },
      "execution_count": 66,
      "outputs": [
        {
          "output_type": "stream",
          "name": "stdout",
          "text": [
            "Epoch 1/10\n",
            "2214/2214 [==============================] - 36s 16ms/step - loss: 0.0757 - accuracy: 0.9787 - val_loss: 0.0171 - val_accuracy: 0.9969\n",
            "Epoch 2/10\n",
            "2214/2214 [==============================] - 39s 18ms/step - loss: 0.0174 - accuracy: 0.9958 - val_loss: 0.0250 - val_accuracy: 0.9943\n",
            "Epoch 3/10\n",
            "2214/2214 [==============================] - 40s 18ms/step - loss: 0.0122 - accuracy: 0.9971 - val_loss: 0.0121 - val_accuracy: 0.9979\n",
            "Epoch 4/10\n",
            "2214/2214 [==============================] - 59s 27ms/step - loss: 0.0095 - accuracy: 0.9979 - val_loss: 0.0164 - val_accuracy: 0.9966\n",
            "Epoch 5/10\n",
            "2214/2214 [==============================] - 34s 15ms/step - loss: 0.0101 - accuracy: 0.9978 - val_loss: 0.0093 - val_accuracy: 0.9970\n",
            "Epoch 6/10\n",
            "2214/2214 [==============================] - 32s 14ms/step - loss: 0.0077 - accuracy: 0.9984 - val_loss: 0.0107 - val_accuracy: 0.9986\n",
            "Epoch 7/10\n",
            "2214/2214 [==============================] - 32s 15ms/step - loss: 0.0071 - accuracy: 0.9985 - val_loss: 0.0107 - val_accuracy: 0.9981\n",
            "Epoch 8/10\n",
            "2214/2214 [==============================] - 34s 15ms/step - loss: 0.0052 - accuracy: 0.9989 - val_loss: 0.0095 - val_accuracy: 0.9981\n",
            "Epoch 9/10\n",
            "2214/2214 [==============================] - 53s 24ms/step - loss: 0.0061 - accuracy: 0.9986 - val_loss: 0.0047 - val_accuracy: 0.9990\n",
            "Epoch 10/10\n",
            "2214/2214 [==============================] - 42s 19ms/step - loss: 0.0058 - accuracy: 0.9986 - val_loss: 0.0050 - val_accuracy: 0.9986\n"
          ]
        }
      ]
    },
    {
      "cell_type": "markdown",
      "source": [
        "## Evaluate model"
      ],
      "metadata": {
        "id": "EkMv93W2QUhR"
      }
    },
    {
      "cell_type": "code",
      "source": [
        "model.evaluate(test_ds)"
      ],
      "metadata": {
        "colab": {
          "base_uri": "https://localhost:8080/"
        },
        "id": "g6a_N0p5TNQe",
        "outputId": "48d6f028-a163-4401-d0ec-948bcb9ee45b"
      },
      "execution_count": 53,
      "outputs": [
        {
          "output_type": "stream",
          "name": "stdout",
          "text": [
            "739/739 [==============================] - 8s 10ms/step - loss: 0.0060 - accuracy: 0.9986\n"
          ]
        },
        {
          "output_type": "execute_result",
          "data": {
            "text/plain": [
              "[0.0059579648077487946, 0.9986026883125305]"
            ]
          },
          "metadata": {},
          "execution_count": 53
        }
      ]
    },
    {
      "cell_type": "code",
      "source": [
        "acc = history.history['accuracy']\n",
        "val_acc = history.history['val_accuracy']\n",
        "\n",
        "loss = history.history['loss']\n",
        "val_loss = history.history['val_loss']\n",
        "\n",
        "epochs_range = range(10)"
      ],
      "metadata": {
        "id": "AY_wtFqIOjpi"
      },
      "execution_count": 49,
      "outputs": []
    },
    {
      "cell_type": "code",
      "source": [
        "plt.figure(figsize=(10, 6))\n",
        "plt.subplot(1, 2, 1)\n",
        "plt.plot(epochs_range, acc, label='Training Accuracy')\n",
        "plt.plot(epochs_range, val_acc, label='Validation Accuracy')\n",
        "plt.legend(loc='lower right')\n",
        "plt.title('Training and Validation Accuracy')\n",
        "\n",
        "plt.subplot(1, 2, 2)\n",
        "plt.plot(epochs_range, loss, label='Training Loss')\n",
        "plt.plot(epochs_range, val_loss, label='Validation Loss')\n",
        "plt.legend(loc='upper right')\n",
        "plt.title('Training and Validation Loss')\n",
        "plt.show()"
      ],
      "metadata": {
        "colab": {
          "base_uri": "https://localhost:8080/",
          "height": 390
        },
        "id": "t4P4biHVQTq7",
        "outputId": "5fb24498-9474-4bdb-f769-3d8481259565"
      },
      "execution_count": 50,
      "outputs": [
        {
          "output_type": "display_data",
          "data": {
            "image/png": "[encoded data removed]",
            "text/plain": [
              "<Figure size 720x432 with 2 Axes>"
            ]
          },
          "metadata": {
            "needs_background": "light"
          }
        }
      ]
    },
    {
      "cell_type": "markdown",
      "source": [
        "## Making prediction our model"
      ],
      "metadata": {
        "id": "GQvR3SvITbOe"
      }
    },
    {
      "cell_type": "code",
      "source": [
        "# \bSort class name \n",
        "import pathlib\n",
        "\n",
        "data_dir = pathlib.Path(train_dir)\n",
        "class_names = np.array(sorted([item.name for item in data_dir.glob('*')]))"
      ],
      "metadata": {
        "id": "sTLd5eAoRAfh"
      },
      "execution_count": 51,
      "outputs": []
    },
    {
      "cell_type": "code",
      "source": [
        "class_names"
      ],
      "metadata": {
        "colab": {
          "base_uri": "https://localhost:8080/"
        },
        "id": "6WJ8jszOX7Pf",
        "outputId": "5f7c4c0c-fc6d-4434-d8c6-816d87828e98"
      },
      "execution_count": 88,
      "outputs": [
        {
          "output_type": "execute_result",
          "data": {
            "text/plain": [
              "array(['+', '-', '=', 'div', 'infty', 'int', 'log', 'sqrt', 'sum',\n",
              "       'times'], dtype='<U5')"
            ]
          },
          "metadata": {},
          "execution_count": 88
        }
      ]
    },
    {
      "cell_type": "code",
      "source": [
        "def load_pre_image(filename, shape):\n",
        "\n",
        "    # Read file from directory\n",
        "    img = tf.io.read_file(filename)\n",
        "\n",
        "    # Decode the img into 3-chanels and tensor\n",
        "    img = tf.image.decode_image(img, channels = 3)\n",
        "    \n",
        "    # Resize the image \n",
        "    img = tf.image.resize(img, size = (shape, shape))\n",
        "\n",
        "    img = img/255.\n",
        "\n",
        "    return img\n"
      ],
      "metadata": {
        "id": "Wkkty0L1TFwT"
      },
      "execution_count": 71,
      "outputs": []
    },
    {
      "cell_type": "code",
      "source": [
        "def plot_and_pred_class(model, filename, class_name):\n",
        "    # import image\n",
        "    img = load_pre_image(filename, 45)\n",
        "\n",
        "    # Get value model predict\n",
        "    prob_pred =  model.predict(tf.expand_dims(img, axis = 0))\n",
        "    class_pred = class_names[np.argmax(prob_pred)]\n",
        "\n",
        "    # show plot\n",
        "    plt.imshow(img)\n",
        "    plt.title(f'Prediction: {class_pred}: {round(np.amax(prob_pred)*100, 3)}%')\n",
        "    plt.axis(False)"
      ],
      "metadata": {
        "id": "CuEkA0BxVWAF"
      },
      "execution_count": 84,
      "outputs": []
    },
    {
      "cell_type": "code",
      "source": [
        "plot_and_pred_class(model, filename = '/content/extracted_images/+/+_12299.jpg', class_name= '+')"
      ],
      "metadata": {
        "colab": {
          "base_uri": "https://localhost:8080/",
          "height": 264
        },
        "id": "bGpvJVE5WiNR",
        "outputId": "2a7d4dfb-659d-42f2-b83c-814e3917adc1"
      },
      "execution_count": 87,
      "outputs": [
        {
          "output_type": "display_data",
          "data": {
            "image/png": "[encoded data removed]",
            "text/plain": [
              "<Figure size 432x288 with 1 Axes>"
            ]
          },
          "metadata": {
            "needs_background": "light"
          }
        }
      ]
    },
    {
      "cell_type": "code",
      "source": [
        "plot_and_pred_class(model, filename = '/content/extracted_images/sqrt/exp100214.jpg', class_name = 'sqrt')"
      ],
      "metadata": {
        "colab": {
          "base_uri": "https://localhost:8080/",
          "height": 264
        },
        "id": "gx990PJnWvYU",
        "outputId": "aec7834d-ab21-4a62-daad-23c28cebe215"
      },
      "execution_count": 89,
      "outputs": [
        {
          "output_type": "display_data",
          "data": {
            "image/png": "[encoded data removed]",
            "text/plain": [
              "<Figure size 432x288 with 1 Axes>"
            ]
          },
          "metadata": {
            "needs_background": "light"
          }
        }
      ]
    },
    {
      "cell_type": "code",
      "source": [
        "plot_and_pred_class(model, filename = '/content/images.png', class_name= 'sqrt')"
      ],
      "metadata": {
        "colab": {
          "base_uri": "https://localhost:8080/",
          "height": 264
        },
        "id": "RRz_bZMmYiF8",
        "outputId": "6ee7ebd7-71c8-4361-dec2-73c3a590f812"
      },
      "execution_count": 91,
      "outputs": [
        {
          "output_type": "display_data",
          "data": {
            "image/png": "[encoded data removed]",
            "text/plain": [
              "<Figure size 432x288 with 1 Axes>"
            ]
          },
          "metadata": {
            "needs_background": "light"
          }
        }
      ]
    },
    {
      "cell_type": "code",
      "source": [
        ""
      ],
      "metadata": {
        "id": "wgD3kq0nY0HC"
      },
      "execution_count": null,
      "outputs": []
    }
  ]
}